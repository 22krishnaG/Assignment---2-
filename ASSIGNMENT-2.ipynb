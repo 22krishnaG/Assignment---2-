{
 "cells": [
  {
   "cell_type": "markdown",
   "id": "9253958f",
   "metadata": {},
   "source": [
    "# ASSIGNMENT - 2"
   ]
  },
  {
   "cell_type": "markdown",
   "id": "63411132",
   "metadata": {},
   "source": [
    "### Que.1 WAP TO ACCEPT PERCENTAGE FROM THE USER AND DISPLAY THE GRADE ACCORDING TO THE FOLLOWING CRITERIA:\n",
    "### maRKS >90 GRADA-A, MARKS >80 AND <=90 GRADE - B, MARKS >=60 AND <=80 GRADE C"
   ]
  },
  {
   "cell_type": "code",
   "execution_count": 6,
   "id": "86ee4df3",
   "metadata": {},
   "outputs": [
    {
     "name": "stdout",
     "output_type": "stream",
     "text": [
      "Enter percentage: 69\n",
      "Grade: C\n"
     ]
    }
   ],
   "source": [
    "percentage = int(input(\"Enter percentage: \"))\n",
    "\n",
    "if percentage > 90:\n",
    "    grade = 'A'\n",
    "elif percentage > 80 and percentage <= 90:\n",
    "    grade = 'B'\n",
    "elif percentage >= 60 and percentage <= 80:\n",
    "    grade = 'C'\n",
    "else: \n",
    "    grade = 'D'\n",
    "    \n",
    "print(\"Grade:\",grade)\n",
    "    "
   ]
  },
  {
   "cell_type": "markdown",
   "id": "27bc753d",
   "metadata": {},
   "source": [
    "### Que.2 WAP to accept the cost price of a bike and display the road tax to be paid according to the following criteria:\n",
    "### Tax -15% oN cost price(in Rs) >100000 , tax-10% ON cost PRice (in Rs) >50000 and <=100000, if cost <=50000 thdn tax will b 5%"
   ]
  },
  {
   "cell_type": "markdown",
   "id": "cf1df3d9",
   "metadata": {},
   "source": [
    "cost_price = float(input(\"Enter the cost price of the bike: \"))\n",
    "if cost_price > 100000:\n",
    "    road_tax = cost_price * 0.15\n",
    "elif cost_price > 50000:\n",
    "    road_tax = cost_price * 0.10\n",
    "else:\n",
    "    road_tax = cost_price * 0.05\n",
    "\n",
    "print(\"The road tax to be paid is Rs. \", road_tax)\n"
   ]
  },
  {
   "cell_type": "markdown",
   "id": "7b3d07da",
   "metadata": {},
   "source": [
    "### Que.3 Accept any city from the user and display monuments of that city \n",
    "### City Delhi: monument, Red fort; city: Agra, monument: taj mahal; City Jaipur, monument: Jal Mahal"
   ]
  },
  {
   "cell_type": "code",
   "execution_count": 19,
   "id": "68aa8dcf",
   "metadata": {},
   "outputs": [
    {
     "name": "stdout",
     "output_type": "stream",
     "text": [
      "Enter a city name: DelHI\n",
      "The monument of DelHI is Red Fort\n"
     ]
    }
   ],
   "source": [
    "city = input(\"Enter a city name: \")\n",
    "\n",
    "if city.lower() == \"delhi\":\n",
    "    monument = \"Red Fort\"\n",
    "elif city.lower() == \"agra\":\n",
    "    monument = \"Taj Mahal\"\n",
    "elif city.lower() == \"jaipur\":\n",
    "    monument = \"Jal Mahal\"\n",
    "else:\n",
    "    monument = \"Monument not found for this city\"\n",
    "\n",
    "print(f\"The monument of {city} is {monument}\")\n"
   ]
  },
  {
   "cell_type": "markdown",
   "id": "aa2fff03",
   "metadata": {},
   "source": [
    "### Que.4 Check how many times a given number can be divided by 3 before it is less than or equal to 10"
   ]
  },
  {
   "cell_type": "code",
   "execution_count": 7,
   "id": "b27d6dc5",
   "metadata": {},
   "outputs": [
    {
     "name": "stdout",
     "output_type": "stream",
     "text": [
      "Enter a number: 333\n",
      "the number can be divided by 4 times before it is less than or equal to 10.\n"
     ]
    }
   ],
   "source": [
    "num = int(input(\"Enter a number: \"))\n",
    "count = 0\n",
    "\n",
    "# while num>=10:\n",
    "#     num = num / 3\n",
    "#     count += 1\n",
    "    \n",
    "    \n",
    "\n",
    "while num!=0:\n",
    "    if(num <= 10):\n",
    "        break\n",
    "    else:\n",
    "        num = num/3\n",
    "        count+=1\n",
    "print(f\"the number can be divided by {count} times before it is less than or equal to 10.\")"
   ]
  },
  {
   "cell_type": "markdown",
   "id": "718a0759",
   "metadata": {},
   "source": [
    "### Que.5 Why and When to Use while Loop in Python give a detailed description with example"
   ]
  },
  {
   "cell_type": "markdown",
   "id": "a2d4d5d2",
   "metadata": {},
   "source": [
    "#### Ans: Python While Loop is used to execute a block of statements repeatedly until a given condition is satisfied. And when the condition becomes false, the line immediately after the loop in the program is executed.\n",
    "#### Syntax:\n",
    "#### While expression\n",
    "####       statement(s)\n",
    "\n",
    "#### While loop falls under the category of indefinite iteration. Indefinite iteration means that the number of times the loop is executed isn’t specified explicitly in advance. \n",
    "#### Statements represent all the statements indented by the same number of character spaces after a programming construct are considered to be part of a single block of code. Python uses indentation as its method of grouping statements. When a while loop is executed, expr is first evaluated in a Boolean context and if it is true, the loop body is executed. Then the expr is checked again, if it is still true then the body is executed again and this continues until the expression becomes false."
   ]
  },
  {
   "cell_type": "code",
   "execution_count": 8,
   "id": "f37b7375",
   "metadata": {},
   "outputs": [
    {
     "name": "stdout",
     "output_type": "stream",
     "text": [
      "Krishna\n",
      "Krishna\n",
      "Krishna\n"
     ]
    }
   ],
   "source": [
    "### Example\n",
    "# Python program to illustrate\n",
    "# while loop\n",
    "count = 0\n",
    "while (count < 3):\n",
    "\tcount = count + 1\n",
    "\tprint(\"Krishna\")\n"
   ]
  },
  {
   "cell_type": "markdown",
   "id": "8e88f10f",
   "metadata": {},
   "source": [
    "#### In the above example, the condition for while will be True as long as the counter variable (count) is less than 3. "
   ]
  },
  {
   "cell_type": "markdown",
   "id": "9e05bd33",
   "metadata": {},
   "source": [
    "### Que.6 Use nested while loop to print 3 different pattern."
   ]
  },
  {
   "cell_type": "code",
   "execution_count": 9,
   "id": "e6e798e7",
   "metadata": {},
   "outputs": [
    {
     "name": "stdout",
     "output_type": "stream",
     "text": [
      "1\n",
      "22\n",
      "333\n",
      "4444\n",
      "55555\n"
     ]
    }
   ],
   "source": [
    "# PATTERN - 1 \n",
    "num_rows = 5\n",
    "row = 1\n",
    "\n",
    "while row <= num_rows:\n",
    "    col = 1\n",
    "    while col <= row:\n",
    "        print(row, end=\"\")\n",
    "        col += 1\n",
    "    print()\n",
    "    row += 1\n"
   ]
  },
  {
   "cell_type": "code",
   "execution_count": 10,
   "id": "3c6b7139",
   "metadata": {},
   "outputs": [
    {
     "name": "stdout",
     "output_type": "stream",
     "text": [
      "1\n",
      "12\n",
      "123\n",
      "1234\n",
      "12345\n"
     ]
    }
   ],
   "source": [
    "# PATTERN - 2\n",
    "num_rows = 5\n",
    "row = 1\n",
    "\n",
    "while row <= num_rows:\n",
    "    col = 1\n",
    "    while col <= row:\n",
    "        print(col, end=\"\")\n",
    "        col += 1\n",
    "    print()\n",
    "    row += 1\n"
   ]
  },
  {
   "cell_type": "code",
   "execution_count": 12,
   "id": "9b52e613",
   "metadata": {},
   "outputs": [
    {
     "name": "stdout",
     "output_type": "stream",
     "text": [
      "5 4 3 2 1 \n",
      "5 4 3 2 \n",
      "5 4 3 \n",
      "5 4 \n",
      "5 \n"
     ]
    }
   ],
   "source": [
    "# PATERN - 3\n",
    "num_rows = 5\n",
    "row = 1\n",
    "\n",
    "while row <= num_rows:\n",
    "    col = num_rows\n",
    "    while col >= row:\n",
    "        print(col, end=\" \")\n",
    "        col -= 1\n",
    "    print()\n",
    "    row += 1\n"
   ]
  },
  {
   "cell_type": "markdown",
   "id": "b5346257",
   "metadata": {},
   "source": [
    "### Que.7 Reverse a while loop to display numbers from 10 to 1\n"
   ]
  },
  {
   "cell_type": "code",
   "execution_count": 13,
   "id": "5e59159d",
   "metadata": {},
   "outputs": [
    {
     "name": "stdout",
     "output_type": "stream",
     "text": [
      "10\n",
      "9\n",
      "8\n",
      "7\n",
      "6\n",
      "5\n",
      "4\n",
      "3\n",
      "2\n",
      "1\n"
     ]
    }
   ],
   "source": [
    "num = 10\n",
    "\n",
    "while num >= 1:\n",
    "    print(num)\n",
    "    num -= 1\n"
   ]
  },
  {
   "cell_type": "markdown",
   "id": "1c5aacb1",
   "metadata": {},
   "source": [
    "### Que.8 Reverse a while loop to displa numbers from 10 to 1"
   ]
  },
  {
   "cell_type": "code",
   "execution_count": 14,
   "id": "52d25843",
   "metadata": {},
   "outputs": [
    {
     "name": "stdout",
     "output_type": "stream",
     "text": [
      "10\n",
      "9\n",
      "8\n",
      "7\n",
      "6\n",
      "5\n",
      "4\n",
      "3\n",
      "2\n",
      "1\n"
     ]
    }
   ],
   "source": [
    "num = 10\n",
    "while num >= 1:\n",
    "    print(num)\n",
    "    num -= 1\n"
   ]
  },
  {
   "cell_type": "markdown",
   "id": "ba80cdd9",
   "metadata": {},
   "source": [
    "### -----------------------------------------------------x------------------------------------------"
   ]
  },
  {
   "cell_type": "code",
   "execution_count": null,
   "id": "7a24961b",
   "metadata": {},
   "outputs": [],
   "source": []
  }
 ],
 "metadata": {
  "kernelspec": {
   "display_name": "Python 3 (ipykernel)",
   "language": "python",
   "name": "python3"
  },
  "language_info": {
   "codemirror_mode": {
    "name": "ipython",
    "version": 3
   },
   "file_extension": ".py",
   "mimetype": "text/x-python",
   "name": "python",
   "nbconvert_exporter": "python",
   "pygments_lexer": "ipython3",
   "version": "3.10.9"
  }
 },
 "nbformat": 4,
 "nbformat_minor": 5
}
